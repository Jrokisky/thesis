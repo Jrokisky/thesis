{
 "cells": [
  {
   "cell_type": "code",
   "execution_count": null,
   "metadata": {},
   "outputs": [],
   "source": [
    "# Map object instances to the images they're present in."
   ]
  },
  {
   "cell_type": "code",
   "execution_count": 5,
   "metadata": {},
   "outputs": [
    {
     "name": "stderr",
     "output_type": "stream",
     "text": [
      "100%|██████████| 197/197 [00:00<00:00, 3010.61it/s]\n"
     ]
    }
   ],
   "source": [
    "from tqdm import tqdm\n",
    "\n",
    "import arid.arid as arid\n",
    "\n",
    "\n",
    "wps = arid.get_wps(\"/home/justin/Desktop/arid-dataset\")\n",
    "objs = {}\n",
    "\n",
    "for wp in tqdm(wps):\n",
    "    title = wp.get_title()\n",
    "    img_paths = wp.rgb_image_paths()\n",
    "    for img_path in img_paths:\n",
    "        img_id = img_path.stem\n",
    "        for ann in wp.get_annotations(img_id)['annotations']:\n",
    "            if ann['id'] is not None:\n",
    "                obj_id = ann['id']\n",
    "                if objs.get(obj_id) is None:\n",
    "                    objs[obj_id] = {}\n",
    "                \n",
    "                if objs[obj_id].get(title) is None:\n",
    "                    objs[obj_id][title] = []\n",
    "                    \n",
    "                objs[obj_id][title].append(img_id)\n",
    "\n",
    "import json\n",
    "\n",
    "with open('/home/justin/Desktop/img_mapping.json', 'w') as json_file:\n",
    "    json.dump(objs, json_file)\n",
    "                    \n",
    "                    "
   ]
  }
 ],
 "metadata": {
  "kernelspec": {
   "display_name": "Python 3",
   "language": "python",
   "name": "python3"
  },
  "language_info": {
   "codemirror_mode": {
    "name": "ipython",
    "version": 3
   },
   "file_extension": ".py",
   "mimetype": "text/x-python",
   "name": "python",
   "nbconvert_exporter": "python",
   "pygments_lexer": "ipython3",
   "version": "3.8.5"
  }
 },
 "nbformat": 4,
 "nbformat_minor": 4
}

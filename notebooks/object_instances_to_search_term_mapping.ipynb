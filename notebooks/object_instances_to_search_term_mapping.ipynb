{
 "cells": [
  {
   "cell_type": "code",
   "execution_count": null,
   "metadata": {},
   "outputs": [],
   "source": [
    "# Dictionary mapping object instance id to search term."
   ]
  },
  {
   "cell_type": "code",
   "execution_count": null,
   "metadata": {},
   "outputs": [],
   "source": [
    "item_mapping = {\n",
    "    'apple_0': 'green apple fruit',\n",
    "    'apple_1': 'yellow apple fruit',\n",
    "    'apple_2': 'red apple fruit',\n",
    "    'ball_0': 'blue ball',\n",
    "    'ball_1': 'red white ball',\n",
    "    'ball_2': 'yellow ball',\n",
    "    'banana_0': 'green banana', \n",
    "    'banana_1': 'yellow banana',\n",
    "    'banana_2': 'yellow banana',\n",
    "    'bell_pepper_0': 'green bell pepper', \n",
    "    'bell_pepper_1': 'red bell pepper',\n",
    "    'bell_pepper_2': 'yellow bell pepper',\n",
    "    'binder_0': 'green three ring binder',\n",
    "    'binder_1': 'white three ring binder',\n",
    "    'binder_2': 'black three ring binder',\n",
    "    'bowl_0': 'white bowl',\n",
    "    'bowl_1': 'blue bowl',\n",
    "    'bowl_2': 'white bowl',\n",
    "    'calculator_0': 'ti calculator',\n",
    "    'calculator_1': 'ti calculator',\n",
    "    'calculator_2': 'ti calculator',\n",
    "    'camera_0': 'silver digital camera',\n",
    "    'camera_1': 'silver digital camera',\n",
    "    'camera_2': 'silver digital camera',\n",
    "    'cap_0': 'blue yellow baseball hat',\n",
    "    'cap_1': 'black teal baseball hat',\n",
    "    'cap_2': 'black baseball hat',\n",
    "    'cell_phone_0': 'black smartphone',\n",
    "    'cell_phone_1': 'white smartphone',\n",
    "    'cell_phone_2': 'black white smartphone',\n",
    "    'cereal_box_0': 'corn flakes cereal box',\n",
    "    'cereal_box_2': 'red toppas cereal box',\n",
    "    'coffee_mug_0': 'blue coffee mug',\n",
    "    'coffee_mug_1': 'black white coffee mug',\n",
    "    'coffee_mug_2': 'white coffee mug',\n",
    "    'comb_0': 'brown hair comb',\n",
    "    'comb_1': 'black hair comb',\n",
    "    'comb_2': 'black hair comb',\n",
    "    'dry_battery_0': 'double a duracell battery',\n",
    "    'dry_battery_1': 'd battery',\n",
    "    'dry_battery_2': 'double a battery',\n",
    "    'flashlight_0': 'silver flashlight',\n",
    "    'flashlight_1': 'black flashlight',\n",
    "    'flashlight_2': 'black flashlight',\n",
    "    'greens_0': 'leafy greens vegetable',\n",
    "    'greens_1': 'leafy greens vegetable'\n",
    "    'greens_2': 'leafy greens vegetable'\n",
    "    'lemon_0': 'yellow lemon',\n",
    "    'lemon_1': 'yellow lemon',\n",
    "    'lemon_2': 'yellow lemon',\n",
    "    'toothbrush_0': 'toothbrush',\n",
    "    'sponge_0': 'yellow sponge',\n",
    "    'tomato_0': 'red tomato',\n",
    "    'tomato_1': 'red tomato',\n",
    "    'tomato_2': 'red tomato',\n",
    "}"
   ]
  }
 ],
 "metadata": {
  "kernelspec": {
   "display_name": "Python 3",
   "language": "python",
   "name": "python3"
  },
  "language_info": {
   "codemirror_mode": {
    "name": "ipython",
    "version": 3
   },
   "file_extension": ".py",
   "mimetype": "text/x-python",
   "name": "python",
   "nbconvert_exporter": "python",
   "pygments_lexer": "ipython3",
   "version": "3.8.5"
  }
 },
 "nbformat": 4,
 "nbformat_minor": 4
}
